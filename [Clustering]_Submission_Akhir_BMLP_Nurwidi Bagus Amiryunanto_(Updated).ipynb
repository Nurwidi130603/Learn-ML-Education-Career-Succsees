{
  "nbformat": 4,
  "nbformat_minor": 0,
  "metadata": {
    "colab": {
      "provenance": [],
      "include_colab_link": true
    },
    "kernelspec": {
      "name": "python3",
      "display_name": "Python 3"
    },
    "language_info": {
      "name": "python"
    }
  },
  "cells": [
    {
      "cell_type": "markdown",
      "metadata": {
        "id": "view-in-github",
        "colab_type": "text"
      },
      "source": [
        "<a href=\"https://colab.research.google.com/github/Nurwidi130603/Learn-ML-Education-Career-Succsees/blob/main/%5BClustering%5D_Submission_Akhir_BMLP_Nurwidi%20Bagus%20Amiryunanto_(Updated).ipynb\" target=\"_parent\"><img src=\"https://colab.research.google.com/assets/colab-badge.svg\" alt=\"Open In Colab\"/></a>"
      ]
    },
    {
      "cell_type": "markdown",
      "source": [
        "# **1. Perkenalan Dataset**\n"
      ],
      "metadata": {
        "id": "kZLRMFl0JyyQ"
      }
    },
    {
      "cell_type": "markdown",
      "source": [
        "## **Education & Career Success**\n",
        "\n",
        "Dataset ini mengeksplorasi hubungan antara kinerja akademik dan kesuksesan karier. Dataset ini berisi 5000 row yang mencakup latar belakang pendidikan, keterampilan, dan hasil karier para siswa. Dataset ini dapat digunakan untuk berbagai analisis, seperti memprediksi keberhasilan pekerjaan berdasarkan pendidikan, mengidentifikasi faktor utama yang memengaruhi gaji, serta memahami peran jaringan profesional dan magang dalam pertumbuhan karier.\n",
        "\n",
        "### **Tujuan Machine Learning**\n",
        "Menganalisis bagaimana GPA, jumlah magang, dan jaringan mempengaruhi tawaran pekerjaan dan gaji."
      ],
      "metadata": {
        "id": "ErB6ylaIHqAG"
      }
    },
    {
      "cell_type": "markdown",
      "source": [
        "# **2. Import Library**"
      ],
      "metadata": {
        "id": "fKADPWcFKlj3"
      }
    },
    {
      "cell_type": "code",
      "source": [
        "# Import library\n",
        "import numpy as np  # Mengimpor library numpy untuk komputasi numerik\n",
        "import pandas as pd  # Mengimpor library pandas untuk analisis data frame\n",
        "import seaborn as sns  # Mengimpor library seaborn untuk visualisasi data\n",
        "import matplotlib.pyplot as plt  # Mengimpor library matplotlib untuk visualisasi data\n",
        "\n",
        "from sklearn.model_selection import train_test_split  # Mengimpor fungsi train_test_split dari library scikit-learn untuk membagi data menjadi data latih dan data uji\n",
        "from sklearn.neighbors import KNeighborsClassifier  # Mengimpor kelas KNeighborsClassifier dari library scikit-learn untuk model klasifikasi dengan metode K-Nearest Neighbors\n",
        "from sklearn.preprocessing import MinMaxScaler  # Mengimpor kelas MinMaxScaler dari library scikit-learn untuk melakukan penskalaan fitur\n",
        "from sklearn.model_selection import GridSearchCV  # Mengimpor kelas GridSearchCV dari library scikit-learn untuk pencarian parameter terbaik menggunakan validasi silang\n",
        "from sklearn.metrics import accuracy_score  # Mengimpor fungsi accuracy_score dari library scikit-learn untuk mengukur akurasi model\n",
        "\n",
        "# Set the maximum column width\n",
        "pd.set_option('display.max_colwidth', 100)  # Mengatur lebar maksimum kolom saat menampilkan data frame menggunakan library pandas\n",
        "# Magic function to display plots in notebook\n",
        "%matplotlib inline\n",
        "# Mengaktifkan fungsi untuk menampilkan plot di dalam notebook Jupyter"
      ],
      "metadata": {
        "id": "c0nLNzYLR7NO"
      },
      "execution_count": 1,
      "outputs": []
    },
    {
      "cell_type": "markdown",
      "source": [
        "# **3. Memuat Dataset**"
      ],
      "metadata": {
        "id": "f3YIEnAFKrKL"
      }
    },
    {
      "cell_type": "code",
      "source": [
        "url='https://github.com/Nurwidi130603/Learn-ML-Education-Career-Succsees/blob/main/Dataset_inisiasi.csv/?raw=True'\n",
        "edu_df = pd.read_csv(url)"
      ],
      "metadata": {
        "id": "cwNozwX2aXMi"
      },
      "execution_count": 2,
      "outputs": []
    },
    {
      "cell_type": "code",
      "source": [
        "edu_df.head(5)"
      ],
      "metadata": {
        "id": "BN3CUXlgLRp1"
      },
      "execution_count": null,
      "outputs": []
    },
    {
      "cell_type": "code",
      "source": [
        "edu_df.describe() # Menggunakan metode 'describe()' dari DataFrame 'edu_df' untuk menghasilkan ringkasan statistik dari dataset."
      ],
      "metadata": {
        "id": "G11NM6OCMEIc"
      },
      "execution_count": null,
      "outputs": []
    },
    {
      "cell_type": "code",
      "source": [
        "# Calculate missing values in all columns\n",
        "# Menggunakan metode 'isnull()' dari DataFrame 'edu_df' untuk mengidentifikasi nilai yang hilang (missing values)\n",
        "# dalam dataset, kemudian metode 'sum()' digunakan untuk menghitung jumlah nilai yang hilang dalam setiap kolom.\n",
        "edu_df.isnull().sum()"
      ],
      "metadata": {
        "id": "bwvIRCl3MRTc"
      },
      "execution_count": null,
      "outputs": []
    },
    {
      "cell_type": "markdown",
      "source": [
        "### *Insight*\n",
        "\n",
        "Data terbaca dan tidak ditemukan diperlukan lagi proses data cleaning, karena terlihat sudah bersih. Selanjutnya akan dilakukan proses EDA melalui beberapa visualisasi dasar yang menggambarkan data secara deskriptif."
      ],
      "metadata": {
        "id": "EO_1XR4wMctU"
      }
    },
    {
      "cell_type": "markdown",
      "source": [
        "# **4. Exploratory Data Analysis (EDA)**\n",
        "Tujuan dari EDA adalah untuk memperoleh wawasan awal yang mendalam mengenai data dan menentukan langkah selanjutnya dalam analisis atau pemodelan."
      ],
      "metadata": {
        "id": "bgZkbJLpK9UR"
      }
    },
    {
      "cell_type": "markdown",
      "source": [
        "1. **Memahami Struktur Data**"
      ],
      "metadata": {
        "id": "euz_XUZPk3-3"
      }
    },
    {
      "cell_type": "code",
      "source": [
        "print(f'Number of features: {edu_df.shape[1]}')\n",
        "# Mencetak jumlah fitur (kolom) dalam dataset dengan menggunakan atribut 'shape[1]' dari DataFrame 'edu_df'. Format string (f-string) digunakan untuk memasukkan nilai tersebut ke dalam teks yang akan dicetak.\n",
        "\n",
        "print(f'Number of observations: {edu_df.shape[0]}')\n",
        "# Mencetak jumlah observasi (baris) dalam dataset dengan menggunakan atribut 'shape[0]' dari DataFrame 'edu_df'. Format string (f-string) digunakan untuk memasukkan nilai tersebut ke dalam teks yang akan dicetak."
      ],
      "metadata": {
        "id": "GIDT27q0LkbU"
      },
      "execution_count": null,
      "outputs": []
    },
    {
      "cell_type": "code",
      "source": [
        "# Check data types of the features\n",
        "# Menggunakan atribut 'dtypes' dari DataFrame 'heart_df' untuk menampilkan tipe data dari setiap fitur dalam dataset.\n",
        "edu_df.dtypes"
      ],
      "metadata": {
        "id": "-9Ua9w0gL4T0"
      },
      "execution_count": null,
      "outputs": []
    },
    {
      "cell_type": "markdown",
      "source": [
        "2. **Analisis Distribusi dan Korelasi**"
      ],
      "metadata": {
        "id": "zBikF1Oxk8UP"
      }
    },
    {
      "cell_type": "code",
      "source": [
        "# Set plot style\n",
        "sns.set(style=\"whitegrid\")\n",
        "\n",
        "# Create separate box plots for University GPA and Starting Salary\n",
        "fig, axes = plt.subplots(1, 2, figsize=(12, 6))\n",
        "\n",
        "# Box plot for University GPA\n",
        "sns.boxplot(y=edu_df[\"University_GPA\"], ax=axes[0], color=\"skyblue\")\n",
        "gpa_min = edu_df['University_GPA'].min()\n",
        "gpa_max = edu_df['University_GPA'].max()\n",
        "gpa_mean = edu_df['University_GPA'].mean()\n",
        "axes[0].text(0, gpa_min, f\"Min: {gpa_min:.2f}\", ha='right', va='bottom', fontsize=10)\n",
        "axes[0].text(0, gpa_max, f\"Max: {gpa_max:.2f}\", ha='right', va='top', fontsize=10)\n",
        "axes[0].text(0, gpa_mean, f\"Mean: {gpa_mean:.2f}\", ha='right', va='bottom', fontsize=10)\n",
        "axes[0].set_title(\"Box Plot of University GPA\")\n",
        "axes[0].set_ylabel(\"University GPA\")\n",
        "axes[0].set_ylim(0,4)\n",
        "\n",
        "# Box plot for Starting Salary\n",
        "sns.boxplot(y=edu_df[\"Starting_Salary\"], ax=axes[1], color=\"lightcoral\")\n",
        "salary_min = edu_df['Starting_Salary'].min()\n",
        "salary_max = edu_df['Starting_Salary'].max()\n",
        "salary_mean = edu_df['Starting_Salary'].mean()\n",
        "axes[1].text(0, salary_min, f\"Min: {salary_min:.2f}\", ha='right', va='bottom', fontsize=10)\n",
        "axes[1].text(0, salary_max, f\"Max: {salary_max:.2f}\", ha='right', va='top', fontsize=10)\n",
        "axes[1].text(0, salary_mean, f\"Mean: {salary_mean:.2f}\", ha='right', va='bottom', fontsize=10)\n",
        "axes[1].set_title(\"Box Plot of Starting Salary\")\n",
        "axes[1].set_ylabel(\"Starting Salary\")\n",
        "axes[1].set_ylim(0)\n",
        "\n",
        "# Show plots\n",
        "plt.tight_layout()\n",
        "plt.show()"
      ],
      "metadata": {
        "id": "CVCTUT_qlCEi"
      },
      "execution_count": null,
      "outputs": []
    },
    {
      "cell_type": "markdown",
      "source": [
        "3. **Visualisasi Data**  "
      ],
      "metadata": {
        "id": "G6ju69RYlCcv"
      }
    },
    {
      "cell_type": "code",
      "source": [
        "# Create a list of categorical columns\n",
        "# Membuat daftar (list) yang berisi nama-nama kolom kategorikal/features dalam dataset.\n",
        "cat_cols = ['Gender', 'Field_of_Study', 'Internships_Completed', 'Projects_Completed', 'Certifications','Soft_Skills_Score','Job_Offers','Career_Satisfaction','Years_to_Promotion','Current_Job_Level','Work_Life_Balance','Entrepreneurship']\n",
        "\n",
        "# Define number of rows and columns for the subplots\n",
        "# Menentukan jumlah baris (num_rows) dan kolom (num_cols) untuk subplot yang akan dibuat.\n",
        "# Angka ini akan mempengaruhi tata letak subplot pada visualisasi berikutnya.\n",
        "num_rows = 6\n",
        "num_cols = 2\n",
        "\n",
        "# Set up the subplots\n",
        "# Membuat objek subplot dengan menggunakan fungsi 'subplots()' dari library matplotlib.pyplot.\n",
        "# Jumlah baris (num_rows) dan kolom (num_cols) ditentukan sebelumnya. Juga, ukuran gambar (figsize) ditentukan sebagai (20, 18).\n",
        "fig, axes = plt.subplots(nrows=num_rows, ncols=num_cols, figsize=(20,18))\n",
        "\n",
        "# Loop over each categorical column to create a bar plot\n",
        "for i, col in enumerate(cat_cols): # Calculate the row and column index for the current subplot\n",
        "    row_idx = i // num_cols\n",
        "    col_idx = i % num_cols # Menghitung indeks baris (row_idx) dan kolom (col_idx) untuk subplot saat ini menggunakan operasi pembagian dan modulo.\n",
        "\n",
        "    # Count the number of rows for each category in the column (frequency distribution)\n",
        "    counts = edu_df[col].value_counts()\n",
        "# Menghitung jumlah baris untuk setiap kategori dalam kolom saat ini dengan menggunakan metode 'value_counts()' dari DataFrame 'edu_df'.\n",
        "\n",
        "    # Create a bar plot of the counts in the current subplot\n",
        "    ax = counts.plot(kind='bar', rot=0, color='#1f77b4', ax=axes[row_idx, col_idx])\n",
        "# Membuat visualisasi diagram batang (bar plot) untuk distribusi frekuensi (counts) dalam subplot saat ini.\n",
        "# Tipe plot diatur sebagai 'bar', rotasi label sumbu x (rot) diatur sebagai 0, warna batang diatur sebagai '#1f77b4',\n",
        "# dan objek subplot yang ditentukan berdasarkan indeks baris dan kolom.\n",
        "\n",
        "    # Add labels for the x and y axes\n",
        "    ax.set_xlabel(col, size=12)\n",
        "    ax.set_ylabel('Count', size=12)\n",
        "# Menambahkan label pada sumbu x dan y untuk subplot saat ini.\n",
        "\n",
        "    # Add a title for the plot\n",
        "    ax.set_title(f'Count of {col}', size=16)\n",
        "# Menambahkan judul pada plot untuk subplot saat ini menggunakan format string (f-string) yang mencantumkan nama kolom.\n",
        "\n",
        "    # Add data labels to the bars\n",
        "    for i in ax.containers:\n",
        "        ax.bar_label(i, label_type='edge')\n",
        "# Menambahkan label data pada batang diagram menggunakan metode 'bar_label()' dari objek subplot.\n",
        "\n",
        "# If there are not enough columns to fill in the last row, create a blank plot\n",
        "if len(cat_cols) % num_cols != 0:\n",
        "    blank_ax = axes[num_rows-1, num_cols-1]\n",
        "    blank_ax.axis('off')\n",
        "# Jika tidak ada cukup kolom untuk mengisi baris terakhir pada subplot, maka akan dibuat sebuah subplot kosong (blank plot) untuk mengisi ruang yang tersisa.\n",
        "# Hal ini dilakukan dengan memeriksa sisa hasil bagi dari pembagian jumlah kolom dengan num_cols. Jika sisa hasil bagi tidak sama dengan 0,\n",
        "# maka sebuah subplot kosong akan dibuat dengan menggunakan objek subplot pada indeks [num_rows-1, num_cols-1] dan disetel agar tidak terlihat dengan menggunakan metode 'axis(\"off\")'.\n",
        "\n",
        "# Adjust the spacing between subplots\n",
        "fig.tight_layout()\n",
        "# Menyesuaikan jarak antara subplot agar tata letaknya lebih rapi dan sesuai dengan ukuran gambar yang ditentukan sebelumnya.\n",
        "\n",
        "plt.show()\n",
        "# Menampilkan plot keseluruhan."
      ],
      "metadata": {
        "id": "B9gY_8knDNs3"
      },
      "execution_count": null,
      "outputs": []
    },
    {
      "cell_type": "markdown",
      "source": [
        "### *Insight*\n",
        "\n",
        "Dari hasil Exploratory Data Analysis (EDA) yang dilakukan. Kita dapat menarik hipotesis sementara dan pemahaman umum tentang fitur-fitur tersebut.Untuk clustering, kita membutuhkan kombinasi fitur numerik dan kategorikal. Beberapa fitur potensial dari dataset ini yang dapat digunakan adalah:\n",
        "\n",
        "1. Fitur Numerik:\n",
        "  - GPA (Nilai akademik siswa)\n",
        "  - Years of Experience (Jumlah tahun pengalaman kerja)\n",
        "  - Salary (Gaji saat ini atau awal)\n",
        "  - Internship Completed (Jumlah berapa kali magang)\n",
        "  - Networking Score (Seberapa aktif dalam membangun jaringan profesional)\n",
        "\n",
        "2. Fitur Kategorikal (diubah menjadi numerik menggunakan One-Hot Encoding):\n",
        "  - Field of Study (Bidang studi yang diambil)\n",
        "  - Job Industry (Industri pekerjaan yang dimasuki)\n",
        "\n",
        "\n"
      ],
      "metadata": {
        "id": "AgudhMsuZl41"
      }
    },
    {
      "cell_type": "markdown",
      "source": [
        "# **5. Data Preprocessing**"
      ],
      "metadata": {
        "id": "cpgHfgnSK3ip"
      }
    },
    {
      "cell_type": "markdown",
      "source": [
        "Pada tahap ini, data preprocessing adalah langkah penting untuk memastikan kualitas data sebelum digunakan dalam model machine learning. Data mentah sering kali mengandung nilai kosong, duplikasi, atau rentang nilai yang tidak konsisten, yang dapat memengaruhi kinerja model. Oleh karena itu, proses ini bertujuan untuk membersihkan dan mempersiapkan data agar analisis berjalan optimal.\n",
        "\n",
        "Berikut adalah tahapan-tahapan yang bisa dilakukan, tetapi **tidak terbatas** pada:\n",
        "1. Menghapus atau Menangani Data Kosong (Missing Values)\n",
        "2. Menghapus Data Duplikat\n",
        "3. Normalisasi atau Standarisasi Fitur\n",
        "4. Deteksi dan Penanganan Outlier\n",
        "5. Encoding Data Kategorikal\n",
        "6. Binning (Pengelompokan Data)\n",
        "\n",
        "Cukup sesuaikan dengan karakteristik data yang kamu gunakan yah."
      ],
      "metadata": {
        "id": "COf8KUPXLg5r"
      }
    },
    {
      "cell_type": "code",
      "source": [
        "#Type your code here"
      ],
      "metadata": {
        "id": "WzBGjcbQM7N8"
      },
      "execution_count": null,
      "outputs": []
    },
    {
      "cell_type": "markdown",
      "source": [
        "# **6. Pembangunan Model Clustering**"
      ],
      "metadata": {
        "id": "BR73dCnrLEiq"
      }
    },
    {
      "cell_type": "markdown",
      "source": [
        "## **a. Pembangunan Model Clustering**"
      ],
      "metadata": {
        "id": "Fkd_QHXWMBDr"
      }
    },
    {
      "cell_type": "markdown",
      "source": [
        "Pada tahap ini, Anda membangun model clustering dengan memilih algoritma yang sesuai untuk mengelompokkan data berdasarkan kesamaan. Berikut adalah **rekomendasi** tahapannya.\n",
        "1. Pilih algoritma clustering yang sesuai.\n",
        "2. Latih model dengan data menggunakan algoritma tersebut."
      ],
      "metadata": {
        "id": "Kn6Y2qbqMVLP"
      }
    },
    {
      "cell_type": "code",
      "source": [
        "#Type your code here"
      ],
      "metadata": {
        "id": "hgYvwWOzM93L"
      },
      "execution_count": null,
      "outputs": []
    },
    {
      "cell_type": "markdown",
      "source": [
        "## **b. Evaluasi Model Clustering**"
      ],
      "metadata": {
        "id": "zsGVwzPKMEvn"
      }
    },
    {
      "cell_type": "markdown",
      "source": [
        "Untuk menentukan jumlah cluster yang optimal dalam model clustering, Anda dapat menggunakan metode Elbow atau Silhouette Score.\n",
        "\n",
        "Metode ini membantu kita menemukan jumlah cluster yang memberikan pemisahan terbaik antar kelompok data, sehingga model yang dibangun dapat lebih efektif. Berikut adalah **rekomendasi** tahapannya.\n",
        "1. Gunakan Silhouette Score dan Elbow Method untuk menentukan jumlah cluster optimal.\n",
        "2. Hitung Silhouette Score sebagai ukuran kualitas cluster."
      ],
      "metadata": {
        "id": "qk63ew39MeBf"
      }
    },
    {
      "cell_type": "code",
      "source": [
        "#Type your code here"
      ],
      "metadata": {
        "id": "yrPkK_bvM-Ya"
      },
      "execution_count": null,
      "outputs": []
    },
    {
      "cell_type": "markdown",
      "source": [
        "## **c. Feature Selection (Opsional)**"
      ],
      "metadata": {
        "id": "vWZp5vKNQddd"
      }
    },
    {
      "cell_type": "markdown",
      "source": [
        "Silakan lakukan feature selection jika Anda membutuhkan optimasi model clustering. Jika Anda menerapkan proses ini, silakan lakukan pemodelan dan evaluasi kembali menggunakan kolom-kolom hasil feature selection. Terakhir, bandingkan hasil performa model sebelum dan sesudah menerapkan feature selection."
      ],
      "metadata": {
        "id": "QIHKgE07Q4c0"
      }
    },
    {
      "cell_type": "code",
      "source": [
        "#Type your code here"
      ],
      "metadata": {
        "id": "Vbstha0PRUpI"
      },
      "execution_count": null,
      "outputs": []
    },
    {
      "cell_type": "markdown",
      "source": [
        "## **d. Visualisasi Hasil Clustering**"
      ],
      "metadata": {
        "id": "nn01TKkLLRiF"
      }
    },
    {
      "cell_type": "markdown",
      "source": [
        "Setelah model clustering dilatih dan jumlah cluster optimal ditentukan, langkah selanjutnya adalah menampilkan hasil clustering melalui visualisasi.\n",
        "\n",
        "Berikut adalah **rekomendasi** tahapannya.\n",
        "1. Tampilkan hasil clustering dalam bentuk visualisasi, seperti grafik scatter plot atau 2D PCA projection."
      ],
      "metadata": {
        "id": "gaz0fnhhMkRI"
      }
    },
    {
      "cell_type": "code",
      "source": [
        "#Type your code here"
      ],
      "metadata": {
        "id": "lfOjVvfYM-4v"
      },
      "execution_count": null,
      "outputs": []
    },
    {
      "cell_type": "markdown",
      "source": [
        "## **e. Analisis dan Interpretasi Hasil Cluster**"
      ],
      "metadata": {
        "id": "X4eydPWJLH4I"
      }
    },
    {
      "cell_type": "markdown",
      "source": [
        "### Interpretasi Target"
      ],
      "metadata": {
        "id": "mxTeTkTkA7o6"
      }
    },
    {
      "cell_type": "markdown",
      "source": [
        "**Tutorial: Melakukan Inverse Transform pada Data Target Setelah Clustering**\n",
        "\n",
        "Setelah melakukan clustering dengan model **KMeans**, kita perlu mengembalikan data yang telah diubah (normalisasi, standarisasi, atau label encoding) ke bentuk aslinya. Berikut adalah langkah-langkahnya.\n",
        "\n",
        "---\n",
        "\n",
        "**1. Tambahkan Hasil Label Cluster ke DataFrame**\n",
        "Setelah mendapatkan hasil clustering, kita tambahkan label cluster ke dalam DataFrame yang telah dinormalisasi.\n",
        "\n",
        "```python\n",
        "df_normalized['Cluster'] = model_kmeans.labels_\n",
        "```\n",
        "\n",
        "Lakukan Inverse Transform pada feature yang sudah dilakukan Labelisasi dan Standararisasi. Berikut code untuk melakukannya:\n",
        "label_encoder.inverse_transform(X_Selected[['Fitur']])\n",
        "\n",
        "Lalu masukkan ke dalam kolom dataset asli atau membuat dataframe baru\n",
        "```python\n",
        "df_normalized['Fitur'] = label_encoder.inverse_transform(df_normalized[['Fitur']])\n",
        "```\n",
        "Masukkan Data yang Sudah Di-Inverse ke dalam Dataset Asli atau Buat DataFrame Baru\n",
        "```python\n",
        "df_original['Fitur'] = df_normalized['Fitur']\n",
        "```"
      ],
      "metadata": {
        "id": "NJDsBARmIsbW"
      }
    },
    {
      "cell_type": "code",
      "source": [
        "# Type your code here\n"
      ],
      "metadata": {
        "id": "ySc78cHdOiaQ"
      },
      "execution_count": null,
      "outputs": []
    },
    {
      "cell_type": "markdown",
      "source": [
        "### Inverse Data Jika Melakukan Normalisasi/Standardisasi"
      ],
      "metadata": {
        "id": "vITTtdoT_fIF"
      }
    },
    {
      "cell_type": "markdown",
      "source": [
        "Inverse Transform untuk Data yang Distandarisasi\n",
        "Jika data numerik telah dinormalisasi menggunakan StandardScaler atau MinMaxScaler, kita bisa mengembalikannya ke skala asli:\n",
        "```python\n",
        "df_normalized[['Fitur_Numerik']] = scaler.inverse_transform(df_normalized[['Fitur_Numerik']])\n",
        "```"
      ],
      "metadata": {
        "id": "bUGkyAvnKRrk"
      }
    },
    {
      "cell_type": "code",
      "source": [
        "# Type your code here"
      ],
      "metadata": {
        "id": "aIGQ_6wKGbVz"
      },
      "execution_count": null,
      "outputs": []
    },
    {
      "cell_type": "markdown",
      "source": [
        "Setelah melakukan clustering, langkah selanjutnya adalah menganalisis karakteristik dari masing-masing cluster berdasarkan fitur yang tersedia.\n",
        "\n",
        "Berikut adalah **rekomendasi** tahapannya.\n",
        "1. Analisis karakteristik tiap cluster berdasarkan fitur yang tersedia (misalnya, distribusi nilai dalam cluster).\n",
        "2. Berikan interpretasi: Apakah hasil clustering sesuai dengan ekspektasi dan logika bisnis? Apakah ada pola tertentu yang bisa dimanfaatkan?"
      ],
      "metadata": {
        "id": "SENfLnfRMpC-"
      }
    },
    {
      "cell_type": "code",
      "source": [
        "# Type your code here"
      ],
      "metadata": {
        "id": "MFq0x-OzM_Wt"
      },
      "execution_count": null,
      "outputs": []
    },
    {
      "cell_type": "markdown",
      "source": [
        "Tulis hasil interpretasinya di sini.\n",
        "1. Cluster 1:\n",
        "2. Cluster 2:\n",
        "3. Cluster 3:"
      ],
      "metadata": {
        "id": "JfgVMEBDS3KG"
      }
    },
    {
      "cell_type": "markdown",
      "source": [
        "# Contoh interpretasi [TEMPLATE]\n",
        "# Analisis Karakteristik Cluster dari Model KMeans\n",
        "\n",
        "Berikut adalah analisis karakteristik untuk setiap cluster yang dihasilkan dari model KMeans.\n",
        "\n",
        "## Cluster 1:\n",
        "- **Rata-rata Annual Income (k$):** 48,260  \n",
        "- **Rata-rata Spending Score (1-100):** 56.48  \n",
        "- **Analisis:** Cluster ini mencakup pelanggan dengan pendapatan tahunan menengah dan tingkat pengeluaran yang cukup tinggi. Pelanggan dalam cluster ini cenderung memiliki daya beli yang moderat dan mereka lebih cenderung untuk membelanjakan sebagian besar pendapatan mereka.\n",
        "\n",
        "## Cluster 2:\n",
        "- **Rata-rata Annual Income (k$):** 86,540  \n",
        "- **Rata-rata Spending Score (1-100):** 82.13  \n",
        "- **Analisis:** Cluster ini menunjukkan pelanggan dengan pendapatan tahunan tinggi dan pengeluaran yang sangat tinggi. Pelanggan di cluster ini merupakan kelompok premium dengan daya beli yang kuat dan cenderung mengeluarkan uang dalam jumlah besar untuk produk atau layanan.\n",
        "\n",
        "## Cluster 3:\n",
        "- **Rata-rata Annual Income (k$):** 87,000  \n",
        "- **Rata-rata Spending Score (1-100):** 18.63  \n",
        "- **Analisis:** Cluster ini terdiri dari pelanggan dengan pendapatan tahunan yang tinggi tetapi pengeluaran yang rendah. Mereka mungkin memiliki kapasitas finansial yang baik namun tidak terlalu aktif dalam berbelanja. Ini bisa menunjukkan bahwa mereka lebih selektif dalam pengeluaran mereka atau mungkin lebih cenderung untuk menyimpan uang."
      ],
      "metadata": {
        "id": "hOygRVqs_vdU"
      }
    },
    {
      "cell_type": "markdown",
      "source": [
        "# **7. Mengeksport Data**\n",
        "\n",
        "Simpan hasilnya ke dalam file CSV."
      ],
      "metadata": {
        "id": "jaYP1fx5VgWO"
      }
    },
    {
      "cell_type": "code",
      "source": [],
      "metadata": {
        "id": "fkbg_o80aRSH"
      },
      "execution_count": null,
      "outputs": []
    }
  ]
}